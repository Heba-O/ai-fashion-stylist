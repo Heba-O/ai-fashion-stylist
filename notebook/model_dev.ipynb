{
 "cells": [
  {
   "cell_type": "markdown",
   "id": "54b4cdcd",
   "metadata": {},
   "source": [
    "# 👗 AI Fashion Stylist - Model Development\n",
    "This notebook loads outfit data, processes text-based fashion descriptions, and builds a recommendation engine."
   ]
  },
  {
   "cell_type": "code",
   "execution_count": null,
   "id": "0b2d49bf",
   "metadata": {},
   "outputs": [],
   "source": [
    "import pandas as pd\n",
    "import numpy as np\n",
    "from sklearn.metrics.pairwise import cosine_similarity\n",
    "from sklearn.feature_extraction.text import TfidfVectorizer\n",
    "import matplotlib.pyplot as plt\n",
    "import seaborn as sns\n"
   ]
  },
  {
   "cell_type": "code",
   "execution_count": null,
   "id": "35b39c30",
   "metadata": {},
   "outputs": [],
   "source": [
    "# 📥 Load dataset directly from GitHub\n",
    "url = \"https://raw.githubusercontent.com/Heba-O/ai-fashion-stylist/main/data/sample_outfits.csv\"\n",
    "df = pd.read_csv(url)\n",
    "df.head()\n"
   ]
  },
  {
   "cell_type": "code",
   "execution_count": null,
   "id": "b073bbdd",
   "metadata": {},
   "outputs": [],
   "source": [
    "# Check for missing values\n",
    "df.isnull().sum()\n",
    "\n",
    "# Fill missing values (if any)\n",
    "df.fillna(\"Unknown\", inplace=True)\n"
   ]
  },
  {
   "cell_type": "code",
   "execution_count": null,
   "id": "f82779e5",
   "metadata": {},
   "outputs": [],
   "source": [
    "# Convert text into TF-IDF vectors\n",
    "vectorizer = TfidfVectorizer(stop_words=\"english\")\n",
    "X = vectorizer.fit_transform(df['style_notes'])\n"
   ]
  },
  {
   "cell_type": "code",
   "execution_count": null,
   "id": "0892b708",
   "metadata": {},
   "outputs": [],
   "source": [
    "# Create similarity matrix\n",
    "cosine_sim = cosine_similarity(X, X)\n",
    "\n",
    "# Function to get similar outfits\n",
    "def get_similar_outfits(idx, top_n=5):\n",
    "    sim_scores = list(enumerate(cosine_sim[idx]))\n",
    "    sim_scores = sorted(sim_scores, key=lambda x: x[1], reverse=True)\n",
    "    sim_scores = sim_scores[1:top_n+1]\n",
    "    outfit_indices = [i[0] for i in sim_scores]\n",
    "    return df.iloc[outfit_indices]\n"
   ]
  },
  {
   "cell_type": "code",
   "execution_count": null,
   "id": "1c0e6712",
   "metadata": {},
   "outputs": [],
   "source": [
    "# Test the function\n",
    "print(\"Recommended outfits similar to outfit #0:\")\n",
    "get_similar_outfits(0, top_n=3)\n"
   ]
  },
  {
   "cell_type": "markdown",
   "id": "68a3357e",
   "metadata": {},
   "source": [
    "## 🚀 Future Improvements\n",
    "- Add outfit images and use vision models\n",
    "- Integrate user preferences\n",
    "- Use a larger fashion dataset with more attributes\n"
   ]
  }
 ],
 "metadata": {},
 "nbformat": 4,
 "nbformat_minor": 5
}
