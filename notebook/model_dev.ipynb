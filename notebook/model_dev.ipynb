{
 "cells": [
  {
   "cell_type": "markdown",
   "id": "7865b2f0",
   "metadata": {},
   "source": [
    "# 👗 AI Fashion Stylist - Model Development\n",
    "This notebook is the core of our AI Fashion Stylist project. It loads outfit data, processes text-based fashion descriptions, and builds a simple recommendation engine based on outfit similarity."
   ]
  },
  {
   "cell_type": "code",
   "execution_count": null,
   "id": "c00c209a",
   "metadata": {},
   "outputs": [],
   "source": [
    "import pandas as pd\n",
    "import numpy as np\n",
    "from sklearn.metrics.pairwise import cosine_similarity\n",
    "from sklearn.feature_extraction.text import TfidfVectorizer\n",
    "import matplotlib.pyplot as plt\n",
    "import seaborn as sns\n"
   ]
  },
  {
   "cell_type": "code",
   "execution_count": null,
   "id": "24613ef5",
   "metadata": {},
   "outputs": [],
   "source": [
    "# Load dataset directly from github\n",
   "url = "https://raw.githubusercontent.com/Heba-O/ai-fashion-stylist/main/data/sample_outfits.csv",
    "df = pd.read_csv(url)",
    "df.head()\n"
   ]
  },
  {
   "cell_type": "code",
   "execution_count": null,
   "id": "c0a4fbad",
   "metadata": {},
   "outputs": [],
   "source": [
    "# Check for missing values\n",
    "df.isnull().sum()\n",
    "\n",
    "# Fill missing values (if any)\n",
    "df.fillna(\"Unknown\", inplace=True)\n"
   ]
  },
  {
   "cell_type": "code",
   "execution_count": null,
   "id": "293e0539",
   "metadata": {},
   "outputs": [],
   "source": [
    "# Convert text into TF-IDF vectors\n",
    "vectorizer = TfidfVectorizer(stop_words=\"english\")\n",
    "X = vectorizer.fit_transform(df['style_notes'])\n"
   ]
  },
  {
   "cell_type": "code",
   "execution_count": null,
   "id": "7e6004f1",
   "metadata": {},
   "outputs": [],
   "source": [
    "# Create similarity matrix\n",
    "cosine_sim = cosine_similarity(X, X)\n",
    "\n",
    "# Function to get similar outfits\n",
    "def get_similar_outfits(idx, top_n=5):\n",
    "    sim_scores = list(enumerate(cosine_sim[idx]))\n",
    "    sim_scores = sorted(sim_scores, key=lambda x: x[1], reverse=True)\n",
    "    sim_scores = sim_scores[1:top_n+1]\n",
    "    outfit_indices = [i[0] for i in sim_scores]\n",
    "    return df.iloc[outfit_indices]\n"
   ]
  },
  {
   "cell_type": "code",
   "execution_count": null,
   "id": "f9ae3572",
   "metadata": {},
   "outputs": [],
   "source": [
    "# Test the function\n",
    "print(\"Recommended outfits similar to outfit #0:\")\n",
    "get_similar_outfits(0, top_n=3)\n"
   ]
  },
  {
   "cell_type": "markdown",
   "id": "574ed65e",
   "metadata": {},
   "source": [
    "## 🚀 Future Improvements\n",
    "- Add outfit images and use vision models for matching\n",
    "- Integrate user preferences (personalized AI)\n",
    "- Use a larger dataset with advanced filtering and embeddings\n"
   ]
  }
 ],
 "metadata": {},
 "nbformat": 4,
 "nbformat_minor": 5
}
